{
 "cells": [
  {
   "cell_type": "markdown",
   "metadata": {},
   "source": [
    "# Using ECDH and symmetric cryptography to build digital signatures\n",
    "\n",
    "## Introduction\n",
    "\n",
    "Digital signatures are used in every-day life to determine the authenticity of any number of messages of any type, from websites and APIs to E-mail and other messages. Whenever someone connects to a a website with HTTPS, digital signatures are involved in the authentication of that website and the public key infrastructure (PKI) used to establish trust with the server. These digital signatures are based on a set of algorithms collectively called \"digital signature algorithms\" that include RSA and ECDSA as well as some of the newer quantum-resistant algorithms such as \"Dilithium\" and \"Sphincs+\".\n",
    "\n",
    "Diffie-Hellman (DH) key exchange algorithms do not normally serve to sign existing messages, but rather serve to generate a shared symmetric key. That shared symmetric key can then be used for any purpose, including authenticated encryption with additional data (AEAD) using algorithms such as AES-GCM, or authentication using symmetric keys employing hash-based message authentication codes (HMAC).\n",
    "\n",
    "Key encapsulation mechanisms (KEM) are another way of sharing symmetric keys, in this case not generating them using a private and a public key, but randomly generating and then sharing them with a specific recipient using the recipient's public key. Contrary to a Diffie-Hellman-type algorithm, a KEM does not require the sender's private key, but only requires the recipient's public key to encrypt the key. The post-quantum algorithm \"Kyper\" is a key encapsulation mechanism.\n",
    "\n",
    "Until recently, one of the most promising post-quantum asymmetric cryptography algorithms was an algorithm from the family of DH algorithms, and DSA and KEM algorithms seemed less promising both in their efficiency and their security. That was until July 2022, when an [attack](https://eprint.iacr.org/2022/1026) on Supersingular Isogeny Diffie-Hellman (SIDH) was found that can be performed on a classical computer and thoroughly breaks the security of SIDH. There is still hope, however, with lattice-based algorithms, and with algorithms based in learning-with-errors.\n",
    "\n",
    "Diffie-Hellman-type algorithms are arguably the most valuable assymetric algorithms known to man: they are typically used for generating shared secret keys, but they *could* be used for signatures as well. In this paper, I will argue for this assertion by presenting a protocol for signing and verifying using a Diffie-Hellman-type construct in conjunction with quantum-safe symmetric cryptography. Grover's algorithm notwithstanding, symmetric cryptography *is safe* as soon as one doubles the key sizes vs. before quantum computers were a thing.\n",
    "\n",
    "I am obviously not presenting a post-quantum Diffie-Hellman-type algorithm: I'm not that good at math."
   ]
  },
  {
   "cell_type": "markdown",
   "metadata": {},
   "source": [
    "## The problem with digital signature algorithms\n",
    "\n",
    "A digital signature algorithm (DSA) consists of three functions: a function to create a keypair, a function to sign, and a function to verify. The function to generate a keypair generates two keys, which we will call $sk$ for the private key and $pk$ for the public key $$sk, pk = G$$ The signing function $S$ is defined as $$sig = S~sk~m$$ where $sig$ is the signature and $m$ is the message. The verification function $V$ is defined as $$r = V~pk~m~sig$$ where r is a boolean result.\n",
    "\n",
    "Digital signature algorithms are not suitable to share a key: if Alice wants to send a message $m_{a\\rightarrow b}$ with Bob, she can use a DSA to sign that message, but anyone with her public key $pk_a$ can verify that signature. She cannot target the signature to be readable only by Bob and she cannot use this to encrypt her message to Bob."
   ]
  },
  {
   "cell_type": "markdown",
   "metadata": {},
   "source": [
    "## The problem with key encapsulation mechanisms\n",
    "\n",
    "A key encapsulation mechanism also consists of three functions: a function to create a keypair, a function to encrypt, and a function to decrypt. The function to create the keypair is essentially the same: $$sk, pk = G$$ The function to encrypt generally only takes the public key of the target recipient, $pk_b$, as parameter and generates both the symmetric secret $s$ and the ciphertext $c$, so this function is defined as $$s, c = E~pk_b$$ The function to decrypt takes the ciphertext and the private key as parameters and reproduces the shared secret: $$s = D~sk_b~c$$\n",
    "\n",
    "The way this would typically be used in an on-line key exchange would be for the server to generate a keypair and send it to the client, the for the client to encrypt the shared key and send the ciphertext back to the server, at which time the server can decrypt it. Obviously, this means the server needs some sort of digital signature algorithm to sign the public key it sends to the client, and cannot authenticate the client unless it uses its own DSA as well, or an application-level authentication is also used."
   ]
  },
  {
   "cell_type": "markdown",
   "metadata": {},
   "source": [
    "## The comparative strength of a Diffie-Hellman-type key exchange\n",
    "\n",
    "This paper presents a protocol in which Diffie-Hellman can be used for digital signatures. While the intent is not to present a protocol for Diffie-Hellman to be used for key encapsulation, such a protocol would be trivial. Diffie-Hellman consists of two functions: a keypair generation function $$sk, pk = G$$ and a shared secret generation that takes the local private key and the remote public key as parameters: $$s = H~sk_a~pk_b = H~sk_b~pk_a$$\n",
    "\n",
    "While this paper presents a protocol for DSA using DH, implementing KEM using DH is trivial: keypair generation remains the same $$sk, pk = G$$\n",
    "\n",
    "The encrypt function generates an ephemeral keypair, performs the DH using its private key, and returns the shared secret and the ephemeral public key, the latter as \"ciphertext\" to be shared with the other party:\n",
    "$$\n",
    "s, c = E~pk_b :\\\\\n",
    "sk_a, pk_a = G\\\\\n",
    "s = H~sk_a~pk_b\\\\\n",
    "c = pk_a\n",
    "$$\n",
    "The decrypt function takes the local private key and the \"ciphertext\", which is an ephemeral public key, and produces the same shared secret:\n",
    "$$\n",
    "s = D~sk_b~c :\\\\\n",
    "D = H\n",
    "$$\n",
    "\n",
    "Hence, with the protocol laid out below, DH-type algorithms can implement both DSA and (trivially, as shown) KEM. "
   ]
  },
  {
   "cell_type": "markdown",
   "metadata": {},
   "source": [
    "## The protocol: signing\n",
    "\n",
    "Given a function $G$ that generates a public and private key suitable for use in the following functions\n",
    "\n",
    "Given a function $D$ taking a private key $sk_a$ and a public key $pk_b$, and outputting a shared secret $k$.\n",
    "\n",
    "Given a function $P$ that will transform a single large integer into a private key suitable for use with the function $D$.\n",
    "\n",
    "Given a function $U$ that computes a public key from a given private key.\n",
    "\n",
    "Given a secure hash function $H$.\n",
    "\n",
    "Given a secure HMAC function $M$.\n",
    "\n",
    "Given an HKDF function using the underlying HMAC $M$, $K_M$\n",
    "\n",
    "Given a message from Alice to Bob $m_{a\\rightarrow b}$.\n",
    "\n",
    "Given Alice's keypair $sk_a, pk_a = G$.\n",
    "\n",
    "Compute $h_1 = H~m_{a\\rightarrow b}$.\n",
    "\n",
    "Compute $h_2 = H~h_1 | m_{a\\rightarrow b}$ where $|$ is a concatenation operator.\n",
    "\n",
    "Compute $sk' = P~h_1'$.\n",
    "\n",
    "Compute $pk' = U~sk'$\n",
    "\n",
    "Compute $k = D~sk_a~pk'$\n",
    "\n",
    "Compute $s = K_M~h_2~k$\n",
    "\n",
    "Compute $m' = M~s~m_{a\\rightarrow b}$\n",
    "\n",
    "Send $\\langle m_{a\\rightarrow b},m'\\rangle$ to Bob.\n",
    "\n",
    "## The protocol: verifying\n",
    "\n",
    "Given the same functions $D$, $P$, $H$, $M$ and $K_M$ ($U$ is not needed in this context).\n",
    "\n",
    "Given Alice's public key $pk_a$.\n",
    "\n",
    "Given Alice's message $\\langle m_{a\\rightarrow b},m'\\rangle$.\n",
    "\n",
    "Compute $h_1' = H~m_{a\\rightarrow b}$.\n",
    "\n",
    "Compute $h_2' = H~h_1' | m_{a\\rightarrow b}$ where $|$ is a concatenation operator.\n",
    "\n",
    "Compute $sk' = P~h_1$.\n",
    "\n",
    "Compute $k' = D~sk'~pk_a$\n",
    "\n",
    "Compute $s' = K_M~h_2'~k'$\n",
    "\n",
    "Compute $m'' = M~s'~m_{a\\rightarrow b}$\n",
    "\n",
    "Verify that $m' == m''$. If so, the message is verified as having been signed with $sk_a$."
   ]
  },
  {
   "cell_type": "markdown",
   "metadata": {},
   "source": [
    "## Implementing with ECDH\n",
    "\n",
    "In the context of this paper, we will use Elliptic Curve Diffie-Hellman as an example of a Diffie-Hellman-type key negotiation scheme, but the only requirements on the scheme, represented here by the function $D$, are that:\n",
    "1. the function $D$ takes a private key and a public key as parameters and\n",
    "2. a private key suitable as a parameter to the function $D$ can be deterministically generated from a single large integer value\n",
    "\n",
    "We will be doing this in Python:"
   ]
  },
  {
   "cell_type": "code",
   "execution_count": 1,
   "metadata": {
    "execution": {
     "iopub.execute_input": "2023-07-14T01:27:52.861375Z",
     "iopub.status.busy": "2023-07-14T01:27:52.861202Z",
     "iopub.status.idle": "2023-07-14T01:27:52.868939Z",
     "shell.execute_reply": "2023-07-14T01:27:52.868001Z"
    }
   },
   "outputs": [],
   "source": [
    "import tinyec.ec as ec\n",
    "import tinyec.registry as reg\n",
    "import os\n",
    "import lipsum\n",
    "import hashlib\n",
    "import hmac\n",
    "from hkdf import *"
   ]
  },
  {
   "cell_type": "markdown",
   "metadata": {},
   "source": [
    "\n",
    "When using ECDH for the function $D$, we can choose an elliptic curve $C = \\langle p, a, b, g, n, h \\rangle$ or $C = \\langle m, f, a, b, g, n, h \\rangle$ where the former option is a prime curve and the second option is a binary curve; $p$ or $m, f$ determine the size of the curve $a, b$ are the defining parameters of the elliptic curve, $g$ is the generator, $n$ is the order of the point at infinity, and $h$ is the cofactor. These parameters are all public."
   ]
  },
  {
   "cell_type": "code",
   "execution_count": 2,
   "metadata": {
    "execution": {
     "iopub.execute_input": "2023-07-14T01:27:52.871598Z",
     "iopub.status.busy": "2023-07-14T01:27:52.871116Z",
     "iopub.status.idle": "2023-07-14T01:27:52.874909Z",
     "shell.execute_reply": "2023-07-14T01:27:52.874156Z"
    }
   },
   "outputs": [],
   "source": [
    "curve = reg.get_curve('secp521r1')"
   ]
  },
  {
   "cell_type": "markdown",
   "metadata": {},
   "source": [
    "We do, of course, need the function to generate a keypair, $G$, as well.\n",
    "\n",
    "> Given a function $G$ that generates a public and private key suitable for use in the following functions"
   ]
  },
  {
   "cell_type": "code",
   "execution_count": 3,
   "metadata": {
    "execution": {
     "iopub.execute_input": "2023-07-14T01:27:52.877105Z",
     "iopub.status.busy": "2023-07-14T01:27:52.876750Z",
     "iopub.status.idle": "2023-07-14T01:27:52.879621Z",
     "shell.execute_reply": "2023-07-14T01:27:52.879075Z"
    }
   },
   "outputs": [],
   "source": [
    "def G():\n",
    "    sk = int.from_bytes(os.urandom(66), 'big') % (2 ** 521)\n",
    "    pk = sk * curve.g\n",
    "    return sk, pk"
   ]
  },
  {
   "cell_type": "markdown",
   "metadata": {},
   "source": [
    "### Alice: signing"
   ]
  },
  {
   "cell_type": "markdown",
   "metadata": {},
   "source": [
    "> Given a function $D$ taking a private key $sk_a$ and a public key $pk_b$, and outputting a shared secret $k$."
   ]
  },
  {
   "cell_type": "code",
   "execution_count": 4,
   "metadata": {
    "execution": {
     "iopub.execute_input": "2023-07-14T01:27:52.881482Z",
     "iopub.status.busy": "2023-07-14T01:27:52.881222Z",
     "iopub.status.idle": "2023-07-14T01:27:52.884268Z",
     "shell.execute_reply": "2023-07-14T01:27:52.883518Z"
    }
   },
   "outputs": [],
   "source": [
    "def D(sk, pk):\n",
    "    k = sk * pk\n",
    "    return (k.x * 16 + k.y % 2).to_bytes(525+7//8, 'big')"
   ]
  },
  {
   "cell_type": "markdown",
   "metadata": {},
   "source": [
    "> Given a function $P$ that will transform a single large integer into a private key suitable for use with the function $D$."
   ]
  },
  {
   "cell_type": "code",
   "execution_count": 5,
   "metadata": {
    "execution": {
     "iopub.execute_input": "2023-07-14T01:27:52.886381Z",
     "iopub.status.busy": "2023-07-14T01:27:52.886052Z",
     "iopub.status.idle": "2023-07-14T01:27:52.888899Z",
     "shell.execute_reply": "2023-07-14T01:27:52.888402Z"
    }
   },
   "outputs": [],
   "source": [
    "def P(h):\n",
    "    '''$$P_C(h) = h \\mod n$$'''\n",
    "    return int.from_bytes(h, 'big') % curve.field.n"
   ]
  },
  {
   "cell_type": "markdown",
   "metadata": {},
   "source": [
    "> Given a function $U$ that computes a public key from a given private key."
   ]
  },
  {
   "cell_type": "code",
   "execution_count": 6,
   "metadata": {
    "execution": {
     "iopub.execute_input": "2023-07-14T01:27:52.891842Z",
     "iopub.status.busy": "2023-07-14T01:27:52.891298Z",
     "iopub.status.idle": "2023-07-14T01:27:52.894214Z",
     "shell.execute_reply": "2023-07-14T01:27:52.893676Z"
    }
   },
   "outputs": [],
   "source": [
    "def U(pk):\n",
    "    return pk * curve.g"
   ]
  },
  {
   "cell_type": "markdown",
   "metadata": {},
   "source": [
    "> Given a secure hash function $H$."
   ]
  },
  {
   "cell_type": "code",
   "execution_count": 7,
   "metadata": {
    "execution": {
     "iopub.execute_input": "2023-07-14T01:27:52.896422Z",
     "iopub.status.busy": "2023-07-14T01:27:52.896120Z",
     "iopub.status.idle": "2023-07-14T01:27:52.898847Z",
     "shell.execute_reply": "2023-07-14T01:27:52.898367Z"
    }
   },
   "outputs": [],
   "source": [
    "def H(data):\n",
    "    sha = hashlib.sha256(data)\n",
    "    return sha.digest()"
   ]
  },
  {
   "cell_type": "markdown",
   "metadata": {},
   "source": [
    "> Given a secure HMAC function $M$."
   ]
  },
  {
   "cell_type": "code",
   "execution_count": 8,
   "metadata": {
    "execution": {
     "iopub.execute_input": "2023-07-14T01:27:52.901033Z",
     "iopub.status.busy": "2023-07-14T01:27:52.900824Z",
     "iopub.status.idle": "2023-07-14T01:27:52.904168Z",
     "shell.execute_reply": "2023-07-14T01:27:52.903632Z"
    }
   },
   "outputs": [],
   "source": [
    "def M(key, data):\n",
    "    if isinstance(data, str):\n",
    "        data = data.encode('utf-8')\n",
    "    h = hmac.new(key, msg=data, digestmod='sha256')\n",
    "    return h.digest()"
   ]
  },
  {
   "cell_type": "markdown",
   "metadata": {},
   "source": [
    "> Given an HKDF function using the underlying HMAC $M$, $K_M$"
   ]
  },
  {
   "cell_type": "code",
   "execution_count": 9,
   "metadata": {
    "execution": {
     "iopub.execute_input": "2023-07-14T01:27:52.906692Z",
     "iopub.status.busy": "2023-07-14T01:27:52.906131Z",
     "iopub.status.idle": "2023-07-14T01:27:52.910150Z",
     "shell.execute_reply": "2023-07-14T01:27:52.909408Z"
    }
   },
   "outputs": [],
   "source": [
    "def K(salt, ikm, length=32):\n",
    "    prk = hkdf_extract(salt, ikm, hash=hashlib.sha256)\n",
    "    return hkdf_expand(prk, length=length)"
   ]
  },
  {
   "cell_type": "markdown",
   "metadata": {},
   "source": [
    "> Given a message $m_{A\\rightarrow B}$"
   ]
  },
  {
   "cell_type": "code",
   "execution_count": 10,
   "metadata": {
    "execution": {
     "iopub.execute_input": "2023-07-14T01:27:52.912518Z",
     "iopub.status.busy": "2023-07-14T01:27:52.912051Z",
     "iopub.status.idle": "2023-07-14T01:27:52.914979Z",
     "shell.execute_reply": "2023-07-14T01:27:52.914476Z"
    }
   },
   "outputs": [],
   "source": [
    "m = lipsum.generate_paragraphs(3)"
   ]
  },
  {
   "cell_type": "markdown",
   "metadata": {},
   "source": [
    "> Given Alice's keypair $sk_a, pk_a = G$."
   ]
  },
  {
   "cell_type": "code",
   "execution_count": 11,
   "metadata": {
    "execution": {
     "iopub.execute_input": "2023-07-14T01:27:52.917304Z",
     "iopub.status.busy": "2023-07-14T01:27:52.916753Z",
     "iopub.status.idle": "2023-07-14T01:27:52.984044Z",
     "shell.execute_reply": "2023-07-14T01:27:52.982969Z"
    }
   },
   "outputs": [],
   "source": [
    "sk_a, pk_a = G()"
   ]
  },
  {
   "cell_type": "markdown",
   "metadata": {},
   "source": [
    "> compute $h_1 = H(m_{A\\rightarrow B})$"
   ]
  },
  {
   "cell_type": "code",
   "execution_count": 12,
   "metadata": {
    "execution": {
     "iopub.execute_input": "2023-07-14T01:27:52.986691Z",
     "iopub.status.busy": "2023-07-14T01:27:52.986515Z",
     "iopub.status.idle": "2023-07-14T01:27:52.990039Z",
     "shell.execute_reply": "2023-07-14T01:27:52.989288Z"
    }
   },
   "outputs": [],
   "source": [
    "h_1 = H(m.encode('utf-8'))"
   ]
  },
  {
   "cell_type": "markdown",
   "metadata": {},
   "source": [
    "> Compute $h_2 = H~h_1 | m_{a\\rightarrow b}$ where $|$ is a concatenation operator."
   ]
  },
  {
   "cell_type": "code",
   "execution_count": 13,
   "metadata": {
    "execution": {
     "iopub.execute_input": "2023-07-14T01:27:52.992128Z",
     "iopub.status.busy": "2023-07-14T01:27:52.991831Z",
     "iopub.status.idle": "2023-07-14T01:27:52.994317Z",
     "shell.execute_reply": "2023-07-14T01:27:52.993846Z"
    }
   },
   "outputs": [],
   "source": [
    "h_2 = H(b''.join([h_1, m.encode('utf-8')]))"
   ]
  },
  {
   "cell_type": "markdown",
   "metadata": {},
   "source": [
    "> Compute $sk' = P~h_1$"
   ]
  },
  {
   "cell_type": "code",
   "execution_count": 14,
   "metadata": {
    "execution": {
     "iopub.execute_input": "2023-07-14T01:27:52.996309Z",
     "iopub.status.busy": "2023-07-14T01:27:52.996035Z",
     "iopub.status.idle": "2023-07-14T01:27:52.998757Z",
     "shell.execute_reply": "2023-07-14T01:27:52.998236Z"
    }
   },
   "outputs": [],
   "source": [
    "sk_prime = P(h_1)"
   ]
  },
  {
   "cell_type": "markdown",
   "metadata": {},
   "source": [
    "> Compute $pk' = U~sk'$"
   ]
  },
  {
   "cell_type": "code",
   "execution_count": 15,
   "metadata": {
    "execution": {
     "iopub.execute_input": "2023-07-14T01:27:53.000713Z",
     "iopub.status.busy": "2023-07-14T01:27:53.000501Z",
     "iopub.status.idle": "2023-07-14T01:27:53.036563Z",
     "shell.execute_reply": "2023-07-14T01:27:53.035808Z"
    }
   },
   "outputs": [],
   "source": [
    "pk_prime = U(sk_prime)"
   ]
  },
  {
   "cell_type": "markdown",
   "metadata": {},
   "source": [
    "> Compute $k = D~sk_a~pk'$"
   ]
  },
  {
   "cell_type": "code",
   "execution_count": 16,
   "metadata": {
    "execution": {
     "iopub.execute_input": "2023-07-14T01:27:53.039055Z",
     "iopub.status.busy": "2023-07-14T01:27:53.038898Z",
     "iopub.status.idle": "2023-07-14T01:27:53.105263Z",
     "shell.execute_reply": "2023-07-14T01:27:53.104519Z"
    }
   },
   "outputs": [],
   "source": [
    "k = D(sk_a, pk_prime)"
   ]
  },
  {
   "cell_type": "markdown",
   "metadata": {},
   "source": [
    "> Compute $s = K_M~h_2~k$"
   ]
  },
  {
   "cell_type": "code",
   "execution_count": 17,
   "metadata": {
    "execution": {
     "iopub.execute_input": "2023-07-14T01:27:53.107703Z",
     "iopub.status.busy": "2023-07-14T01:27:53.107545Z",
     "iopub.status.idle": "2023-07-14T01:27:53.110708Z",
     "shell.execute_reply": "2023-07-14T01:27:53.110111Z"
    }
   },
   "outputs": [],
   "source": [
    "s = K(h_2, k)"
   ]
  },
  {
   "cell_type": "markdown",
   "metadata": {},
   "source": [
    "> Compute $m' = M~s~m_{a\\rightarrow b}$"
   ]
  },
  {
   "cell_type": "code",
   "execution_count": 18,
   "metadata": {
    "execution": {
     "iopub.execute_input": "2023-07-14T01:27:53.113103Z",
     "iopub.status.busy": "2023-07-14T01:27:53.112828Z",
     "iopub.status.idle": "2023-07-14T01:27:53.115384Z",
     "shell.execute_reply": "2023-07-14T01:27:53.114919Z"
    }
   },
   "outputs": [],
   "source": [
    "m_prime = M(s, m)"
   ]
  },
  {
   "cell_type": "markdown",
   "metadata": {},
   "source": [
    "> Send $\\langle m_{a\\rightarrow b},m'\\rangle$ to Bob."
   ]
  },
  {
   "cell_type": "code",
   "execution_count": 19,
   "metadata": {
    "execution": {
     "iopub.execute_input": "2023-07-14T01:27:53.117483Z",
     "iopub.status.busy": "2023-07-14T01:27:53.117252Z",
     "iopub.status.idle": "2023-07-14T01:27:53.120151Z",
     "shell.execute_reply": "2023-07-14T01:27:53.119649Z"
    }
   },
   "outputs": [],
   "source": [
    "to_bob = m, m_prime"
   ]
  },
  {
   "cell_type": "markdown",
   "metadata": {},
   "source": [
    "### Bob: verifying"
   ]
  },
  {
   "cell_type": "markdown",
   "metadata": {},
   "source": [
    "> Given the same functions $D$, $P$, $H$, $M$ and $K_M$ ($U$ is not needed in this context)."
   ]
  },
  {
   "cell_type": "code",
   "execution_count": 20,
   "metadata": {
    "execution": {
     "iopub.execute_input": "2023-07-14T01:27:53.122565Z",
     "iopub.status.busy": "2023-07-14T01:27:53.122156Z",
     "iopub.status.idle": "2023-07-14T01:27:53.124652Z",
     "shell.execute_reply": "2023-07-14T01:27:53.124134Z"
    }
   },
   "outputs": [],
   "source": [
    "# inherited from cells above"
   ]
  },
  {
   "cell_type": "markdown",
   "metadata": {},
   "source": [
    "> Given Alice's public key $pk_a$."
   ]
  },
  {
   "cell_type": "code",
   "execution_count": 21,
   "metadata": {
    "execution": {
     "iopub.execute_input": "2023-07-14T01:27:53.126726Z",
     "iopub.status.busy": "2023-07-14T01:27:53.126321Z",
     "iopub.status.idle": "2023-07-14T01:27:53.128837Z",
     "shell.execute_reply": "2023-07-14T01:27:53.128331Z"
    }
   },
   "outputs": [],
   "source": [
    "# inherited from cells above"
   ]
  },
  {
   "cell_type": "markdown",
   "metadata": {},
   "source": [
    "> Given Alice's message $\\langle m_{a\\rightarrow b},m'\\rangle$."
   ]
  },
  {
   "cell_type": "code",
   "execution_count": 22,
   "metadata": {
    "execution": {
     "iopub.execute_input": "2023-07-14T01:27:53.130912Z",
     "iopub.status.busy": "2023-07-14T01:27:53.130640Z",
     "iopub.status.idle": "2023-07-14T01:27:53.133110Z",
     "shell.execute_reply": "2023-07-14T01:27:53.132646Z"
    }
   },
   "outputs": [],
   "source": [
    "m, m_prime = to_bob"
   ]
  },
  {
   "cell_type": "markdown",
   "metadata": {},
   "source": [
    "> Compute $h_1' = H~m_{a\\rightarrow b}$."
   ]
  },
  {
   "cell_type": "code",
   "execution_count": 23,
   "metadata": {
    "execution": {
     "iopub.execute_input": "2023-07-14T01:27:53.136154Z",
     "iopub.status.busy": "2023-07-14T01:27:53.135563Z",
     "iopub.status.idle": "2023-07-14T01:27:53.138699Z",
     "shell.execute_reply": "2023-07-14T01:27:53.138170Z"
    }
   },
   "outputs": [],
   "source": [
    "h_1_prime = H(m.encode('utf-8'))"
   ]
  },
  {
   "cell_type": "markdown",
   "metadata": {},
   "source": [
    "> Compute $h_2' = H~h_1' | m_{a\\rightarrow b}$ where $|$ is a concatenation operator."
   ]
  },
  {
   "cell_type": "code",
   "execution_count": 24,
   "metadata": {
    "execution": {
     "iopub.execute_input": "2023-07-14T01:27:53.140745Z",
     "iopub.status.busy": "2023-07-14T01:27:53.140458Z",
     "iopub.status.idle": "2023-07-14T01:27:53.143535Z",
     "shell.execute_reply": "2023-07-14T01:27:53.143015Z"
    }
   },
   "outputs": [],
   "source": [
    "h_2_prime = H(b''.join([h_1_prime, m.encode('utf-8')]))"
   ]
  },
  {
   "cell_type": "markdown",
   "metadata": {},
   "source": [
    "> Compute $sk' = P~h_1'$."
   ]
  },
  {
   "cell_type": "code",
   "execution_count": 25,
   "metadata": {
    "execution": {
     "iopub.execute_input": "2023-07-14T01:27:53.145479Z",
     "iopub.status.busy": "2023-07-14T01:27:53.145299Z",
     "iopub.status.idle": "2023-07-14T01:27:53.147986Z",
     "shell.execute_reply": "2023-07-14T01:27:53.147484Z"
    }
   },
   "outputs": [],
   "source": [
    "sk_prime = P(h_1_prime)"
   ]
  },
  {
   "cell_type": "markdown",
   "metadata": {},
   "source": [
    "> Compute $k' = D~sk'~pk_a$"
   ]
  },
  {
   "cell_type": "code",
   "execution_count": 26,
   "metadata": {
    "execution": {
     "iopub.execute_input": "2023-07-14T01:27:53.149658Z",
     "iopub.status.busy": "2023-07-14T01:27:53.149369Z",
     "iopub.status.idle": "2023-07-14T01:27:53.184872Z",
     "shell.execute_reply": "2023-07-14T01:27:53.183875Z"
    }
   },
   "outputs": [],
   "source": [
    "k_prime = D(sk_prime, pk_a)"
   ]
  },
  {
   "cell_type": "markdown",
   "metadata": {},
   "source": [
    "> Compute $s' = K_M~h_2'~k'$"
   ]
  },
  {
   "cell_type": "code",
   "execution_count": 27,
   "metadata": {
    "execution": {
     "iopub.execute_input": "2023-07-14T01:27:53.187380Z",
     "iopub.status.busy": "2023-07-14T01:27:53.187046Z",
     "iopub.status.idle": "2023-07-14T01:27:53.189925Z",
     "shell.execute_reply": "2023-07-14T01:27:53.189393Z"
    }
   },
   "outputs": [],
   "source": [
    "s_prime = K(h_2_prime, k_prime)"
   ]
  },
  {
   "cell_type": "markdown",
   "metadata": {},
   "source": [
    "> Compute $m'' = M~s'~m_{a\\rightarrow b}$"
   ]
  },
  {
   "cell_type": "code",
   "execution_count": 28,
   "metadata": {
    "execution": {
     "iopub.execute_input": "2023-07-14T01:27:53.192268Z",
     "iopub.status.busy": "2023-07-14T01:27:53.191977Z",
     "iopub.status.idle": "2023-07-14T01:27:53.194647Z",
     "shell.execute_reply": "2023-07-14T01:27:53.194164Z"
    }
   },
   "outputs": [],
   "source": [
    "m_double_prime = M(s_prime, m)"
   ]
  },
  {
   "cell_type": "markdown",
   "metadata": {},
   "source": [
    "> Verify that $m' == m''$. If so, the message is verified as having been signed with $sk_a$."
   ]
  },
  {
   "cell_type": "code",
   "execution_count": 29,
   "metadata": {
    "execution": {
     "iopub.execute_input": "2023-07-14T01:27:53.196736Z",
     "iopub.status.busy": "2023-07-14T01:27:53.196445Z",
     "iopub.status.idle": "2023-07-14T01:27:53.201535Z",
     "shell.execute_reply": "2023-07-14T01:27:53.200560Z"
    }
   },
   "outputs": [
    {
     "data": {
      "text/plain": [
       "True"
      ]
     },
     "execution_count": 29,
     "metadata": {},
     "output_type": "execute_result"
    }
   ],
   "source": [
    "m_prime == m_double_prime"
   ]
  }
 ],
 "metadata": {
  "kernelspec": {
   "display_name": "Python 3 (ipykernel)",
   "language": "python",
   "name": "python3"
  },
  "language_info": {
   "codemirror_mode": {
    "name": "ipython",
    "version": 3
   },
   "file_extension": ".py",
   "mimetype": "text/x-python",
   "name": "python",
   "nbconvert_exporter": "python",
   "pygments_lexer": "ipython3",
   "version": "3.8.10"
  }
 },
 "nbformat": 4,
 "nbformat_minor": 2
}
