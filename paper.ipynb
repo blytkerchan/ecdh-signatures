{
 "cells": [
  {
   "cell_type": "code",
   "execution_count": 1,
   "metadata": {
    "execution": {
     "iopub.execute_input": "2023-07-16T22:43:23.446659Z",
     "iopub.status.busy": "2023-07-16T22:43:23.446419Z",
     "iopub.status.idle": "2023-07-16T22:43:23.456173Z",
     "shell.execute_reply": "2023-07-16T22:43:23.455220Z"
    },
    "tags": [
     "html_only"
    ]
   },
   "outputs": [
    {
     "data": {
      "text/html": [
       "<div>\n",
       "<font style=\"font-size: xx-large; font-weight: bold\">Using ECDH and symmetric cryptography to build digital signatures</font>\n",
       "</div>\n",
       "<div>By <a href=\"https://rlc.vlinder.ca\" target=\"_blank\">Ronald Landheer-Cieslak</a></div>\n",
       "<div style=\"text-align: right\">\n",
       "<div><a target=\"_blank\" href=\"index.pdf\">Download PDF version</a></div>\n",
       "<div><a target=\"_blank\" href=\"https://github.com/blytkerchan/ecdh-signatures.git\">GitHub</a></div>\n",
       "<div><a target=\"_blank\" href=\"https://applied-paranoia.com\">Applied Paranoia</a></div>\n",
       "</div>\n"
      ],
      "text/plain": [
       "<IPython.core.display.HTML object>"
      ]
     },
     "metadata": {},
     "output_type": "display_data"
    }
   ],
   "source": [
    "%%html\n",
    "<div>\n",
    "<font style=\"font-size: xx-large; font-weight: bold\">Using ECDH and symmetric cryptography to build digital signatures</font>\n",
    "</div>\n",
    "<div>By <a href=\"https://rlc.vlinder.ca\" target=\"_blank\">Ronald Landheer-Cieslak</a></div>\n",
    "<div style=\"text-align: right\">\n",
    "<div><a target=\"_blank\" href=\"index.pdf\">Download PDF version</a></div>\n",
    "<div><a target=\"_blank\" href=\"https://github.com/blytkerchan/ecdh-signatures.git\">GitHub</a></div>\n",
    "<div><a target=\"_blank\" href=\"https://applied-paranoia.com\">Applied Paranoia</a></div>\n",
    "</div>"
   ]
  },
  {
   "cell_type": "markdown",
   "metadata": {},
   "source": [
    "***ROUGH DRAFT***"
   ]
  },
  {
   "cell_type": "markdown",
   "metadata": {},
   "source": [
    "# Introduction\n",
    "\n",
    "## Background\n",
    "\n",
    "Digital signatures are used in every-day life to determine the authenticity of any number of messages of any type, from websites and APIs to E-mail and other messages. Whenever someone connects to a website with HTTPS, digital signatures are involved in the authentication of that website and the public key infrastructure (PKI) used to establish trust with the server. These digital signatures are based on a set of algorithms collectively called \"digital signature algorithms\" that include RSA, DSA, and ECDSA as well as some of the newer quantum-resistant algorithms such as \"Dilithium\" and \"Sphincs+\".\n",
    "\n",
    "Diffie-Hellman (DH) key exchange algorithms enable two parties communicating over an insecure channel to establish a mutual secret without it being transmitted over that channel. These algorithms allow the two parties to agree on a shared symmetric secret key over the insecure channel. That shared symmetric secret key can then be used for any purpose, including authenticated encryption with additional data (AEAD) using algorithms such as AES-GCM, or authentication using symmetric keys employing hash-based message authentication codes (HMAC).\n",
    "\n",
    "Diffie-Hellman-type algorithms are arguably the most valuable assymetric algorithms known to man: they are typically used for generating shared secret keys, but they *could* be used for signatures as well. In this paper, I will argue for this assertion by presenting a protocol for signing and verifying using a Diffie-Hellman-type construct in conjunction with quantum-safe symmetric cryptography. Grover's algorithm notwithstanding, symmetric cryptography *is safe* as soon as one doubles the key sizes vs. before quantum computers were a thing.\n",
    "\n",
    "The issue for post-quantum cryptography is that with the advent of ever-larger quantum computers, we are likely to reach a point where an implement of Shor's algorithm capable of breaking current cryptography becomes viable. Shor's algorithm is the algorithm that breaks all \"classic\" asymmetric cryptography used today, including digital signature algorithms like RSA, DSA, ECDSA, and EdDSA; diffie-hellman key exchanges like Diffie-Hellman and Elliptic Curve Diffie Hellman (ECDH), and Key Encapsulation Mechanisms like RSA. Once a quantum computer large enough to implement Shor's algorithm with sufficient capacity to break a 2048-bit RSA key is viable, which will likely happen within the next two decades, we will have to rely on post-quantum cryptography to replace the classic algorithms we use today.\n",
    "\n",
    "There are currently no standard post-quantum algorithms to replace the standard asymmetric cryptography algorithms we use in every-day life. NIST, the US National Institute for Standards and Technology, is managing an open process to find and standardize such algorithms. \n",
    "\n",
    "Until recently, one of the most promising post-quantum asymmetric cryptography algorithms was an algorithm from the family of DH algorithms, and DSA and KEM algorithms seemed less promising both in their efficiency and their security. That was until July 2022, when an [attack](https://eprint.iacr.org/2022/1026) on Supersingular Isogeny Diffie-Hellman (SIDH) was found that can be performed on a classical computer and thoroughly breaks the security of SIDH. There is still hope, however, with lattice-based algorithms, and with algorithms based in learning-with-errors.\n",
    "\n",
    "The four algorithms that made it to round four of [NIST's search for post-quantum cryptography](https://csrc.nist.gov/projects/post-quantum-cryptography) include [three DSAype algorithms and one KEM-type algorithm](https://csrc.nist.gov/Projects/post-quantum-cryptography/selected-algorithms-2022). None of the are DH-type algorithms.\n",
    "\n",
    "I am obviously not presenting a post-quantum Diffie-Hellman-type algorithm: I'm not that good at math! I also don't know how much more difficult it would be to come up with a DH-type algorithm than it is to come up with a DSA-type or KEM-type algorithm, but I understand that all of these algorithms are based on the difficulty of reversing certain operations. RSA and DH are based on the difficulty of finding the prime factors of a large integer (which Shor makes relatively easy); ECC is based on the difficulty of dividing one point on an elliptic curve by another to find a very large integer (the one originally used for the multiplication); lattice-based algorithms are based on the difficulty of finding a point on a multi-dimensional lattice defined by a set of vectors that are almost aligned with each other (which is much easier when those vectors are almost perpendicular to each other); etc. These are called \"trapdoor functions\" and are what allow asymmetric cryptography to exist. What's needed is a trapdoor function that is difficult for both classical and quantum computers, and allows a DH-like protocol where a local private key and a remote public key can be used to generate a shared secret, without having to communicate anything other than the public key. Both KEM and DSA can be built out of that, the former of which I've already show, and the latter of which I will show in this paper."
   ]
  },
  {
   "cell_type": "markdown",
   "metadata": {},
   "source": [
    "## Notation\n",
    "\n",
    "In most of this paper, I will use a Haskell-like notation, in which functions are represented as uppercase letters and values are lowercase letters. So the notation $$a = F~b~c$$ means the function $F$ takes parameters $b$ and $c$ and returns $a$. Tuples are represented as $\\langle a, b, c\\rangle$ (in this case a tuple of $a$, $b$, and $c$)."
   ]
  },
  {
   "cell_type": "markdown",
   "metadata": {},
   "source": [
    "## Definition of a digital signature algorithm\n",
    "\n",
    "With that notation in mind, a digital signature algorithm (DSA) consists of three functions: a function to create a keypair, a function to sign, and a function to verify. The function to generate a keypair generates two keys, which we will call $sk$ for the private key and $pk$ for the public key $$\\langle sk, pk\\rangle = G$$ The signing function $S$ is defined as $$sig = S~sk~m$$ where $sig$ is the signature and $m$ is the message. The verification function $V$ is defined as $$r = V~pk~m~sig$$ where $r$ is a boolean result.\n",
    "\n",
    "If Alice wants to send a message $m_{a\\rightarrow b}$ with Bob, she can use a DSA to sign that message, and anyone with her public key $pk_a$ can verify that signature. A DSA can be used to sign any message, including a public key or a certificate containing one."
   ]
  },
  {
   "cell_type": "markdown",
   "metadata": {},
   "source": [
    "## Definition of a Diffie-Hellman-type key exchange\n",
    "\n",
    "This paper presents a protocol in which Diffie-Hellman can be used for digital signatures. Diffie-Hellman consists of two functions: a keypair generation function $$sk, pk = G$$ and a shared secret generation that takes the local private key and the remote public key as parameters: $$s = X~sk_a~pk_b = X~sk_b~pk_a$$"
   ]
  },
  {
   "cell_type": "markdown",
   "metadata": {},
   "source": [
    "## Proofs of concept\n",
    "\n",
    "Two proofs of concept are presented in this paper, both written in Python. While Haskell combines power of abstract mathematics with the intuitive expressiveness of abstract mathematics, Python concentrates on intuitive expressiveness of software engineering. This is more of an engineering problem than it if a math problem, but also, there is no Jupyter kernel for Haskell.\n",
    "\n",
    "The first proof of concept is presented in the paper as in-line Python code and is meant to show a simplified implementation of the protocol as transparently as possible. The second proof of concept is implemented as a Python module and is built using Python modules that are meant to be used in production and are intended to be secure. While I make no representations about the security of the implementation, it is my intent for this second proof of concept to be something one would be able to build a secure implementation on."
   ]
  },
  {
   "cell_type": "markdown",
   "metadata": {},
   "source": [
    "## Layout of the remainder of this paper\n",
    "\n",
    "The remainder of this paper is laid out as follows: the [next section](#the-protocol) will describe the protocol in abstract terms including the principles of its operation and the basic functions required. The [\"Proof of concept\"](#proof-of-concept) section will lay out how the basic functions, signing, and verification, can be implemented using Python. The [\"Using the module\"](#using-the-module) section explains how the module that implements this protocol in Python using production-level code as its underlying implementation can be used to implement the use cases of signing and verifying messages. The [\"Security analysis\"](#security-analysis) section provides an overview of the protocol's security, and the [\"Conclusion\"](#conclusion) section concludes this paper."
   ]
  },
  {
   "cell_type": "markdown",
   "metadata": {},
   "source": [
    "# The protocol\n",
    "\n",
    "The protocol is entirely built on a combination of asymmetric and symmetric cryptography, where the only asymmetric cryptography used is a Diffie-Hellman-type algorithm. In the proof of concept an Elliptic Curve Diffie-Hellman is used, but any Diffie-Hellman-type algorithm that implements the two functions $G$ and $X$ described above can be used.\n",
    "\n",
    "## Principles of operation\n",
    "\n",
    "The protocol is based on the idea of using public data to deterministically generate the second key pair used in the DH key exchange $s = X~sk_a~pk_b = X~sk_b~pk_a$. That public data is derived from the message being signed itself, using secure hash algorithms, and then used to generate a symmetric key which, in turn, is used to sign the message using an HMAC algorithm. The idea here is that, in a scenario where Alice signs a message for Bob to verify, both Alice and Bob can generate the second key pair, but only Alice knows the private key of the first key pair. The security of the scheme is based on the difficulty of finding a private key for a given public key, and the security of the hashing algorithms used.\n",
    "\n",
    "## Basic functions needed\n",
    "\n",
    "Several functions are needed to implement this scheme:\n",
    "\n",
    "* a function $G$ that generates a public and private key suitable for use in the following functions\n",
    "* a function $X$ that takes a private key $sk_a$ and a public key $pk_b$, and outputs a shared secret $k$.\n",
    "* a function $P$ that will transform a single large integer into a private key suitable for use with the function $X$.\n",
    "* a function $U$ that computes a public key from a given private key.\n",
    "* a secure hash function $H$.\n",
    "* a secure HMAC function $M$.\n",
    "* an HKDF function using the underlying HMAC $M$, $K_M$\n",
    "\n",
    "## Signing\n",
    "\n",
    "Formally, the protocol is defined as follows:\n",
    "\n",
    "1. Given a message from Alice to Bob $m_{a\\rightarrow b}$.\n",
    "2. Given Alice's keypair $sk_a, pk_a = G$.\n",
    "3. Compute $h_1 = H~m_{a\\rightarrow b}$.\n",
    "4. Compute $h_2 = H~h_1 | m_{a\\rightarrow b}$ where $|$ is a concatenation operator.\n",
    "5. Compute $sk' = P~h_1'$.\n",
    "6. Compute $pk' = U~sk'$\n",
    "7. Compute $k = X~sk_a~pk'$\n",
    "8. Compute $s = K_M~h_2~k$\n",
    "9. Compute $m' = M~s~m_{a\\rightarrow b}$\n",
    "\n",
    "The value $m'$ is the signature for the message $m_{a\\rightarrow b}$. It is calculated using a keyed HMAC. This HMAC uses a key that is derived using an HKDF that uses a value derived from the message as its salt, and a value derived from the DH-type exchange function as its IKM. The public key used in that exchange is derived from a private key which, itself, is derived from the message as well. This means that to produce this signature, the only value that is employed that is not known to Bob is Alice's private key. Alice can therefore send $\\langle m_{a\\rightarrow b},m'\\rangle$ to Bob and does not need to provide any additional data beyond her public key."
   ]
  },
  {
   "cell_type": "markdown",
   "metadata": {},
   "source": [
    "\n",
    "## Verifying\n",
    "\n",
    "Given the same functions $X$, $P$, $H$, $M$ and $K_M$ ($U$ is not needed in this context), Alice's public key $pk_a$, and Alice's message $\\langle m_{a\\rightarrow b},m'\\rangle$, verification is formally defined as follows:\n",
    "\n",
    "1. Compute $h_1' = H~m_{a\\rightarrow b}$.\n",
    "2. Compute $h_2' = H~h_1' | m_{a\\rightarrow b}$ where $|$ is a concatenation operator.\n",
    "3. Compute $sk'' = P~h_1'$.\n",
    "4. Compute $k' = D~sk'~pk_a$\n",
    "5. Compute $s' = K_M~h_2'~k'$\n",
    "6. Compute $m'' = M~s'~m_{a\\rightarrow b}$\n",
    "7. Verify that $m' == m''$. If so, the message is verified as having been signed with $sk_a$.\n",
    "\n",
    "Note that during this verification, the value $h_1'$ calculated by Bob is the same value as $h_1$ previously calculated by Alice; the value $h_2'$ is the same value as $h_2$ previously calculated by Alice, the value $sk''$ is the same value as the value $sk'$ previously calculated by Alice; Bob does not need to calculate the equivalent of $pk'$; the value $k'$ is the same as the value $k$ previously calculated by Alice, by virtue of the DH-type function $X$; the value $s'$ is the same value as $s$ previously calculated by Alice; and therefore $m' == m''$."
   ]
  },
  {
   "cell_type": "markdown",
   "metadata": {},
   "source": [
    "# Proof of concept\n",
    "\n",
    "With the formal definition now given, I will present a proof of concept written in Python. In this proof of concept, the message \"sent\" by Alice will be a random text of three \"Lorem ipsum\" type paragraphs generated using the `lipsum` module. The `hashlib`, `hmac`, and `hkdf` modules are all used as they are regular modules for these types of cryptographic applications, but for the ECDH implementation I will use the `tinyec` library to make the proof of concept as explicit as possible. For the Python module, these modules are all replaced with the `cryptography` module from the Python Cryptographic Authority (PyCA). This has the added benefit of providing a second, indepent (in the sense of not using the same code) implementation of the same proof of concept.\n"
   ]
  },
  {
   "cell_type": "code",
   "execution_count": 2,
   "metadata": {
    "execution": {
     "iopub.execute_input": "2023-07-16T22:43:23.480809Z",
     "iopub.status.busy": "2023-07-16T22:43:23.480592Z",
     "iopub.status.idle": "2023-07-16T22:43:23.486839Z",
     "shell.execute_reply": "2023-07-16T22:43:23.486205Z"
    }
   },
   "outputs": [],
   "source": [
    "import tinyec.ec as ec\n",
    "import tinyec.registry as reg\n",
    "import os\n",
    "import lipsum\n",
    "import hashlib\n",
    "import hmac\n",
    "from hkdf import *"
   ]
  },
  {
   "cell_type": "markdown",
   "metadata": {},
   "source": [
    "\n",
    "In the context of this paper, we will use Elliptic Curve Diffie-Hellman as an example of a Diffie-Hellman-type key negotiation scheme, but the only requirements on the scheme, represented here by the function $X$, are that:\n",
    "\n",
    "1. the function $X$ takes a private key and a public key as parameters and\n",
    "2. a private key suitable as a parameter to the function $X$ can be deterministically generated from a single large integer value"
   ]
  },
  {
   "cell_type": "markdown",
   "metadata": {},
   "source": [
    "When using ECDH for the function $X$, we can choose an elliptic curve $C = \\langle p, a, b, g, n, h \\rangle$ or $C = \\langle m, f, a, b, g, n, h \\rangle$ where the former option is a prime curve and the second option is a binary curve; $p$ or $m, f$ determine the size of the curve $a, b$ are the defining parameters of the elliptic curve, $g$ is the generator, $n$ is the order of the point at infinity, and $h$ is the cofactor. These parameters are all public.\n",
    "\n",
    "For the proof of concept, I have arbitrarily chosen SECP521r1 as the curve."
   ]
  },
  {
   "cell_type": "code",
   "execution_count": 3,
   "metadata": {
    "execution": {
     "iopub.execute_input": "2023-07-16T22:43:23.489583Z",
     "iopub.status.busy": "2023-07-16T22:43:23.489329Z",
     "iopub.status.idle": "2023-07-16T22:43:23.492447Z",
     "shell.execute_reply": "2023-07-16T22:43:23.491893Z"
    }
   },
   "outputs": [],
   "source": [
    "curve = reg.get_curve('secp521r1')"
   ]
  },
  {
   "cell_type": "markdown",
   "metadata": {},
   "source": [
    "We do, of course, need the function to generate a keypair, $G$, as well.\n",
    "\n",
    "> Given a function $G$ that generates a public and private key suitable for use in the following functions\n",
    "\n",
    "In ECDH, the secret key is a large integer that is strictly smaller than $n$. To obtain the public key, this value is multiplied by the curve's generator $g$. This makes a very simple implementation of our function $G$:"
   ]
  },
  {
   "cell_type": "code",
   "execution_count": 4,
   "metadata": {
    "execution": {
     "iopub.execute_input": "2023-07-16T22:43:23.495410Z",
     "iopub.status.busy": "2023-07-16T22:43:23.495114Z",
     "iopub.status.idle": "2023-07-16T22:43:23.498032Z",
     "shell.execute_reply": "2023-07-16T22:43:23.497525Z"
    }
   },
   "outputs": [],
   "source": [
    "def G():\n",
    "    sk = (int.from_bytes(os.urandom(66), 'big') & (2 ** 521 - 1)) % curve.field.n\n",
    "    pk = sk * curve.g\n",
    "    return sk, pk"
   ]
  },
  {
   "cell_type": "markdown",
   "metadata": {},
   "source": [
    "Note that I do not claim this implementation to be secure."
   ]
  },
  {
   "cell_type": "markdown",
   "metadata": {},
   "source": [
    "> Given a function $X$ that takes a private key $sk_a$ and a public key $pk_b$, and outputs a shared secret $k$.\n",
    "\n",
    "Generating the shared secret depends on the way the public key is generated. In this case, because $sk_a * g = pk_a$ and $sk_b * g = pk_b$ we can see we have a common factor $g$ of both $pk_a$ and $pk_b$. We can therefore rely on the fact that $sk_a * pk_b = k = sk_b * pk_a$ because $pk_b = $sk_b * g$ and $pk_a = sk_a * g$, which means, by substitution: $sk_a * (sk_b * g) = sk_b * (sk_a * g)$ which, without the brackets, means $sk_a * sk_b * g = sk_a * sk_b * g$. We should note, though that this multiplication of a secret integer value with the generator point of the curve gives us a point on the curve, not a large integer value. To obtain a large integer value, we \"compress\" the point we obtained by taking only the X coordinate of the value, and the final bit of the Y coordinate. To make things easier to align and manipulate, we also insert three zero bits between the X and the Y coordinate in the code below."
   ]
  },
  {
   "cell_type": "code",
   "execution_count": 5,
   "metadata": {
    "execution": {
     "iopub.execute_input": "2023-07-16T22:43:23.500217Z",
     "iopub.status.busy": "2023-07-16T22:43:23.499991Z",
     "iopub.status.idle": "2023-07-16T22:43:23.503558Z",
     "shell.execute_reply": "2023-07-16T22:43:23.502736Z"
    }
   },
   "outputs": [],
   "source": [
    "def X(sk, pk):\n",
    "    k = sk * pk\n",
    "    return (k.x * 16 + k.y % 2).to_bytes(525+7//8, 'big')"
   ]
  },
  {
   "cell_type": "markdown",
   "metadata": {},
   "source": [
    "Again, no representation is made for this code being secure: it is only intended to show the mechanism by which the scheme operates."
   ]
  },
  {
   "cell_type": "markdown",
   "metadata": {},
   "source": [
    "> Given a function $P$ that will transform a single large integer into a private key suitable for use with the function $X$.\n",
    "\n",
    "In much the same way as described above, in ECDH, the secret value of the private key is a large integer that is strictly smaller than the curve's $n$ value. Our \"transformation\" then is only a $\\mod{}$ function."
   ]
  },
  {
   "cell_type": "code",
   "execution_count": 6,
   "metadata": {
    "execution": {
     "iopub.execute_input": "2023-07-16T22:43:23.506162Z",
     "iopub.status.busy": "2023-07-16T22:43:23.505897Z",
     "iopub.status.idle": "2023-07-16T22:43:23.509612Z",
     "shell.execute_reply": "2023-07-16T22:43:23.509100Z"
    }
   },
   "outputs": [],
   "source": [
    "def P(h):\n",
    "    '''$$P_C(h) = h \\mod n$$'''\n",
    "    return int.from_bytes(h, 'big') % curve.field.n"
   ]
  },
  {
   "cell_type": "markdown",
   "metadata": {},
   "source": [
    "> Given a function $U$ that computes a public key from a given private key.\n",
    "\n",
    "Again, a public key is obtained by multiplying the private key by the generator point:"
   ]
  },
  {
   "cell_type": "code",
   "execution_count": 7,
   "metadata": {
    "execution": {
     "iopub.execute_input": "2023-07-16T22:43:23.511882Z",
     "iopub.status.busy": "2023-07-16T22:43:23.511601Z",
     "iopub.status.idle": "2023-07-16T22:43:23.514601Z",
     "shell.execute_reply": "2023-07-16T22:43:23.514071Z"
    }
   },
   "outputs": [],
   "source": [
    "def U(pk):\n",
    "    return pk * curve.g"
   ]
  },
  {
   "cell_type": "markdown",
   "metadata": {},
   "source": [
    "Note that it is generally extremely unwise to \"roll your own cryptography\". The code for this part of the proof of concept is for ***illustrative purposes only*** and should not be taken as a valid, cryptographically secure, implementation of ECDH. It is intended to illustrate the underlying math and to show the workings of the protocol, but the true cryptgraphic proof of concept is contained in the second implementation of the proof of concept which, while it is more opaque due to the use of the PyCA `cryptography` module, is also both accurate and secure."
   ]
  },
  {
   "cell_type": "markdown",
   "metadata": {},
   "source": [
    "> Given a secure hash function $H$.\n",
    "\n",
    "We will use SHA-256 for our hash function in this proof of concept, but any cryptographically secure hash function may be used."
   ]
  },
  {
   "cell_type": "code",
   "execution_count": 8,
   "metadata": {
    "execution": {
     "iopub.execute_input": "2023-07-16T22:43:23.517024Z",
     "iopub.status.busy": "2023-07-16T22:43:23.516487Z",
     "iopub.status.idle": "2023-07-16T22:43:23.519551Z",
     "shell.execute_reply": "2023-07-16T22:43:23.519009Z"
    }
   },
   "outputs": [],
   "source": [
    "def H(data):\n",
    "    sha = hashlib.sha256(data)\n",
    "    return sha.digest()"
   ]
  },
  {
   "cell_type": "markdown",
   "metadata": {},
   "source": [
    "> Given a secure HMAC function $M$."
   ]
  },
  {
   "cell_type": "code",
   "execution_count": 9,
   "metadata": {
    "execution": {
     "iopub.execute_input": "2023-07-16T22:43:23.521643Z",
     "iopub.status.busy": "2023-07-16T22:43:23.521488Z",
     "iopub.status.idle": "2023-07-16T22:43:23.524634Z",
     "shell.execute_reply": "2023-07-16T22:43:23.524111Z"
    }
   },
   "outputs": [],
   "source": [
    "def M(key, data):\n",
    "    if isinstance(data, str):\n",
    "        data = data.encode('utf-8')\n",
    "    h = hmac.new(key, msg=data, digestmod='sha256')\n",
    "    return h.digest()"
   ]
  },
  {
   "cell_type": "markdown",
   "metadata": {},
   "source": [
    "> Given an HKDF function using the underlying HMAC $M$, $K_M$"
   ]
  },
  {
   "cell_type": "code",
   "execution_count": 10,
   "metadata": {
    "execution": {
     "iopub.execute_input": "2023-07-16T22:43:23.527017Z",
     "iopub.status.busy": "2023-07-16T22:43:23.526510Z",
     "iopub.status.idle": "2023-07-16T22:43:23.529365Z",
     "shell.execute_reply": "2023-07-16T22:43:23.528823Z"
    }
   },
   "outputs": [],
   "source": [
    "def K(salt, ikm, length=32):\n",
    "    prk = hkdf_extract(salt, ikm, hash=hashlib.sha256)\n",
    "    return hkdf_expand(prk, length=length)"
   ]
  },
  {
   "cell_type": "markdown",
   "metadata": {},
   "source": [
    "## Signing\n",
    "\n",
    "Now that our functions are all defined, we can generate a message and sign it."
   ]
  },
  {
   "cell_type": "markdown",
   "metadata": {},
   "source": [
    "> Given a message $m_{A\\rightarrow B}$"
   ]
  },
  {
   "cell_type": "code",
   "execution_count": 11,
   "metadata": {
    "execution": {
     "iopub.execute_input": "2023-07-16T22:43:23.531559Z",
     "iopub.status.busy": "2023-07-16T22:43:23.531124Z",
     "iopub.status.idle": "2023-07-16T22:43:23.534142Z",
     "shell.execute_reply": "2023-07-16T22:43:23.533642Z"
    }
   },
   "outputs": [],
   "source": [
    "m = lipsum.generate_paragraphs(3)"
   ]
  },
  {
   "cell_type": "markdown",
   "metadata": {},
   "source": [
    "> Given Alice's keypair $sk_a, pk_a = G$."
   ]
  },
  {
   "cell_type": "code",
   "execution_count": 12,
   "metadata": {
    "execution": {
     "iopub.execute_input": "2023-07-16T22:43:23.536305Z",
     "iopub.status.busy": "2023-07-16T22:43:23.535996Z",
     "iopub.status.idle": "2023-07-16T22:43:23.607763Z",
     "shell.execute_reply": "2023-07-16T22:43:23.606616Z"
    }
   },
   "outputs": [],
   "source": [
    "sk_a, pk_a = G()"
   ]
  },
  {
   "cell_type": "markdown",
   "metadata": {},
   "source": [
    "> compute $h_1 = H(m_{A\\rightarrow B})$"
   ]
  },
  {
   "cell_type": "code",
   "execution_count": 13,
   "metadata": {
    "execution": {
     "iopub.execute_input": "2023-07-16T22:43:23.610641Z",
     "iopub.status.busy": "2023-07-16T22:43:23.610263Z",
     "iopub.status.idle": "2023-07-16T22:43:23.613632Z",
     "shell.execute_reply": "2023-07-16T22:43:23.613083Z"
    }
   },
   "outputs": [],
   "source": [
    "h_1 = H(m.encode('utf-8'))"
   ]
  },
  {
   "cell_type": "markdown",
   "metadata": {},
   "source": [
    "> Compute $h_2 = H~h_1 | m_{a\\rightarrow b}$ where $|$ is a concatenation operator."
   ]
  },
  {
   "cell_type": "code",
   "execution_count": 14,
   "metadata": {
    "execution": {
     "iopub.execute_input": "2023-07-16T22:43:23.615974Z",
     "iopub.status.busy": "2023-07-16T22:43:23.615659Z",
     "iopub.status.idle": "2023-07-16T22:43:23.619189Z",
     "shell.execute_reply": "2023-07-16T22:43:23.618387Z"
    }
   },
   "outputs": [],
   "source": [
    "h_2 = H(b''.join([h_1, m.encode('utf-8')]))"
   ]
  },
  {
   "cell_type": "markdown",
   "metadata": {},
   "source": [
    "> Compute $sk' = P~h_1$"
   ]
  },
  {
   "cell_type": "code",
   "execution_count": 15,
   "metadata": {
    "execution": {
     "iopub.execute_input": "2023-07-16T22:43:23.621964Z",
     "iopub.status.busy": "2023-07-16T22:43:23.621415Z",
     "iopub.status.idle": "2023-07-16T22:43:23.624389Z",
     "shell.execute_reply": "2023-07-16T22:43:23.623806Z"
    }
   },
   "outputs": [],
   "source": [
    "sk_prime = P(h_1)"
   ]
  },
  {
   "cell_type": "markdown",
   "metadata": {},
   "source": [
    "> Compute $pk' = U~sk'$"
   ]
  },
  {
   "cell_type": "code",
   "execution_count": 16,
   "metadata": {
    "execution": {
     "iopub.execute_input": "2023-07-16T22:43:23.626768Z",
     "iopub.status.busy": "2023-07-16T22:43:23.626335Z",
     "iopub.status.idle": "2023-07-16T22:43:23.664186Z",
     "shell.execute_reply": "2023-07-16T22:43:23.663377Z"
    }
   },
   "outputs": [],
   "source": [
    "pk_prime = U(sk_prime)"
   ]
  },
  {
   "cell_type": "markdown",
   "metadata": {},
   "source": [
    "> Compute $k = X~sk_a~pk'$"
   ]
  },
  {
   "cell_type": "code",
   "execution_count": 17,
   "metadata": {
    "execution": {
     "iopub.execute_input": "2023-07-16T22:43:23.666805Z",
     "iopub.status.busy": "2023-07-16T22:43:23.666632Z",
     "iopub.status.idle": "2023-07-16T22:43:23.745095Z",
     "shell.execute_reply": "2023-07-16T22:43:23.744355Z"
    }
   },
   "outputs": [],
   "source": [
    "k = X(sk_a, pk_prime)"
   ]
  },
  {
   "cell_type": "markdown",
   "metadata": {},
   "source": [
    "> Compute $s = K_M~h_2~k$"
   ]
  },
  {
   "cell_type": "code",
   "execution_count": 18,
   "metadata": {
    "execution": {
     "iopub.execute_input": "2023-07-16T22:43:23.747722Z",
     "iopub.status.busy": "2023-07-16T22:43:23.747554Z",
     "iopub.status.idle": "2023-07-16T22:43:23.750698Z",
     "shell.execute_reply": "2023-07-16T22:43:23.749907Z"
    }
   },
   "outputs": [],
   "source": [
    "s = K(h_2, k)"
   ]
  },
  {
   "cell_type": "markdown",
   "metadata": {},
   "source": [
    "> Compute $m' = M~s~m_{a\\rightarrow b}$"
   ]
  },
  {
   "cell_type": "code",
   "execution_count": 19,
   "metadata": {
    "execution": {
     "iopub.execute_input": "2023-07-16T22:43:23.752510Z",
     "iopub.status.busy": "2023-07-16T22:43:23.752277Z",
     "iopub.status.idle": "2023-07-16T22:43:23.755636Z",
     "shell.execute_reply": "2023-07-16T22:43:23.754857Z"
    }
   },
   "outputs": [],
   "source": [
    "m_prime = M(s, m)"
   ]
  },
  {
   "cell_type": "markdown",
   "metadata": {},
   "source": [
    "> Send $\\langle m_{a\\rightarrow b},m'\\rangle$ to Bob."
   ]
  },
  {
   "cell_type": "code",
   "execution_count": 20,
   "metadata": {
    "execution": {
     "iopub.execute_input": "2023-07-16T22:43:23.758054Z",
     "iopub.status.busy": "2023-07-16T22:43:23.757645Z",
     "iopub.status.idle": "2023-07-16T22:43:23.760673Z",
     "shell.execute_reply": "2023-07-16T22:43:23.760017Z"
    }
   },
   "outputs": [],
   "source": [
    "to_bob = m, m_prime"
   ]
  },
  {
   "cell_type": "markdown",
   "metadata": {},
   "source": [
    "## Bob: verifying"
   ]
  },
  {
   "cell_type": "markdown",
   "metadata": {},
   "source": [
    "> Given the same functions $D$, $P$, $H$, $M$ and $K_M$ ($U$ is not needed in this context)."
   ]
  },
  {
   "cell_type": "code",
   "execution_count": 21,
   "metadata": {
    "execution": {
     "iopub.execute_input": "2023-07-16T22:43:23.762411Z",
     "iopub.status.busy": "2023-07-16T22:43:23.762256Z",
     "iopub.status.idle": "2023-07-16T22:43:23.765114Z",
     "shell.execute_reply": "2023-07-16T22:43:23.764404Z"
    }
   },
   "outputs": [],
   "source": [
    "# inherited from cells above"
   ]
  },
  {
   "cell_type": "markdown",
   "metadata": {},
   "source": [
    "> Given Alice's public key $pk_a$."
   ]
  },
  {
   "cell_type": "code",
   "execution_count": 22,
   "metadata": {
    "execution": {
     "iopub.execute_input": "2023-07-16T22:43:23.766937Z",
     "iopub.status.busy": "2023-07-16T22:43:23.766703Z",
     "iopub.status.idle": "2023-07-16T22:43:23.769116Z",
     "shell.execute_reply": "2023-07-16T22:43:23.768489Z"
    }
   },
   "outputs": [],
   "source": [
    "# inherited from cells above"
   ]
  },
  {
   "cell_type": "markdown",
   "metadata": {},
   "source": [
    "> Given Alice's message $\\langle m_{a\\rightarrow b},m'\\rangle$."
   ]
  },
  {
   "cell_type": "code",
   "execution_count": 23,
   "metadata": {
    "execution": {
     "iopub.execute_input": "2023-07-16T22:43:23.772111Z",
     "iopub.status.busy": "2023-07-16T22:43:23.771674Z",
     "iopub.status.idle": "2023-07-16T22:43:23.774452Z",
     "shell.execute_reply": "2023-07-16T22:43:23.773912Z"
    }
   },
   "outputs": [],
   "source": [
    "m, m_prime = to_bob"
   ]
  },
  {
   "cell_type": "markdown",
   "metadata": {},
   "source": [
    "> Compute $h_1' = H~m_{a\\rightarrow b}$."
   ]
  },
  {
   "cell_type": "code",
   "execution_count": 24,
   "metadata": {
    "execution": {
     "iopub.execute_input": "2023-07-16T22:43:23.776263Z",
     "iopub.status.busy": "2023-07-16T22:43:23.776066Z",
     "iopub.status.idle": "2023-07-16T22:43:23.778670Z",
     "shell.execute_reply": "2023-07-16T22:43:23.778142Z"
    }
   },
   "outputs": [],
   "source": [
    "h_1_prime = H(m.encode('utf-8'))"
   ]
  },
  {
   "cell_type": "markdown",
   "metadata": {},
   "source": [
    "> Compute $h_2' = H~h_1' | m_{a\\rightarrow b}$ where $|$ is a concatenation operator."
   ]
  },
  {
   "cell_type": "code",
   "execution_count": 25,
   "metadata": {
    "execution": {
     "iopub.execute_input": "2023-07-16T22:43:23.780667Z",
     "iopub.status.busy": "2023-07-16T22:43:23.780347Z",
     "iopub.status.idle": "2023-07-16T22:43:23.783192Z",
     "shell.execute_reply": "2023-07-16T22:43:23.782688Z"
    }
   },
   "outputs": [],
   "source": [
    "h_2_prime = H(b''.join([h_1_prime, m.encode('utf-8')]))"
   ]
  },
  {
   "cell_type": "markdown",
   "metadata": {},
   "source": [
    "> Compute $sk'' = P~h_1'$."
   ]
  },
  {
   "cell_type": "code",
   "execution_count": 33,
   "metadata": {
    "execution": {
     "iopub.execute_input": "2023-07-16T22:43:23.785184Z",
     "iopub.status.busy": "2023-07-16T22:43:23.784960Z",
     "iopub.status.idle": "2023-07-16T22:43:23.787716Z",
     "shell.execute_reply": "2023-07-16T22:43:23.787158Z"
    }
   },
   "outputs": [],
   "source": [
    "sk_double_prime = P(h_1_prime)"
   ]
  },
  {
   "cell_type": "markdown",
   "metadata": {},
   "source": [
    "> Compute $k' = D~sk''~pk_a$"
   ]
  },
  {
   "cell_type": "code",
   "execution_count": 34,
   "metadata": {
    "execution": {
     "iopub.execute_input": "2023-07-16T22:43:23.789791Z",
     "iopub.status.busy": "2023-07-16T22:43:23.789555Z",
     "iopub.status.idle": "2023-07-16T22:43:23.828720Z",
     "shell.execute_reply": "2023-07-16T22:43:23.828119Z"
    }
   },
   "outputs": [],
   "source": [
    "k_prime = X(sk_double_prime, pk_a)"
   ]
  },
  {
   "cell_type": "markdown",
   "metadata": {},
   "source": [
    "> Compute $s' = K_M~h_2'~k'$"
   ]
  },
  {
   "cell_type": "code",
   "execution_count": 30,
   "metadata": {
    "execution": {
     "iopub.execute_input": "2023-07-16T22:43:23.831336Z",
     "iopub.status.busy": "2023-07-16T22:43:23.830998Z",
     "iopub.status.idle": "2023-07-16T22:43:23.833907Z",
     "shell.execute_reply": "2023-07-16T22:43:23.833351Z"
    }
   },
   "outputs": [],
   "source": [
    "s_prime = K(h_2_prime, k_prime)"
   ]
  },
  {
   "cell_type": "markdown",
   "metadata": {},
   "source": [
    "> Compute $m'' = M~s'~m_{a\\rightarrow b}$"
   ]
  },
  {
   "cell_type": "code",
   "execution_count": 31,
   "metadata": {
    "execution": {
     "iopub.execute_input": "2023-07-16T22:43:23.836125Z",
     "iopub.status.busy": "2023-07-16T22:43:23.835815Z",
     "iopub.status.idle": "2023-07-16T22:43:23.838555Z",
     "shell.execute_reply": "2023-07-16T22:43:23.838015Z"
    }
   },
   "outputs": [],
   "source": [
    "m_double_prime = M(s_prime, m)"
   ]
  },
  {
   "cell_type": "markdown",
   "metadata": {},
   "source": [
    "> Verify that $m' == m''$. If so, the message is verified as having been signed with $sk_a$."
   ]
  },
  {
   "cell_type": "code",
   "execution_count": 32,
   "metadata": {
    "execution": {
     "iopub.execute_input": "2023-07-16T22:43:23.840659Z",
     "iopub.status.busy": "2023-07-16T22:43:23.840364Z",
     "iopub.status.idle": "2023-07-16T22:43:23.844311Z",
     "shell.execute_reply": "2023-07-16T22:43:23.843737Z"
    }
   },
   "outputs": [
    {
     "data": {
      "text/plain": [
       "True"
      ]
     },
     "execution_count": 32,
     "metadata": {},
     "output_type": "execute_result"
    }
   ],
   "source": [
    "m_prime == m_double_prime"
   ]
  },
  {
   "cell_type": "markdown",
   "metadata": {},
   "source": [
    "# Using the module\n",
    "\n"
   ]
  },
  {
   "cell_type": "markdown",
   "metadata": {},
   "source": [
    "# Security analysis\n"
   ]
  },
  {
   "cell_type": "markdown",
   "metadata": {},
   "source": [
    "# Conclusion"
   ]
  }
 ],
 "metadata": {
  "authors": [
   {
    "name": "Ronald Landheer-Cieslak"
   }
  ],
  "kernelspec": {
   "display_name": "Python 3 (ipykernel)",
   "language": "python",
   "name": "python3"
  },
  "language_info": {
   "codemirror_mode": {
    "name": "ipython",
    "version": 3
   },
   "file_extension": ".py",
   "mimetype": "text/x-python",
   "name": "python",
   "nbconvert_exporter": "python",
   "pygments_lexer": "ipython3",
   "version": "3.8.10"
  },
  "title": "Using ECDH and symmetric cryptography to build digital signatures"
 },
 "nbformat": 4,
 "nbformat_minor": 2
}
